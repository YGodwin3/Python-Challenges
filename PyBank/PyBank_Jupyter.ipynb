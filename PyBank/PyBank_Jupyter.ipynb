{
 "cells": [
  {
   "cell_type": "code",
   "execution_count": 6,
   "metadata": {},
   "outputs": [],
   "source": [
    "import os\n",
    "import csv\n",
    "\n",
    "budget_data_csv = os.path.join(\"Resources\", \"budget_data.csv\")\n",
    "\n",
    "total_amt=0\n",
    "net_change_list=[]\n",
    "month_change_list=[]\n",
    "increase = []\n",
    "decrease = []\n"
   ]
  },
  {
   "cell_type": "code",
   "execution_count": 7,
   "metadata": {},
   "outputs": [],
   "source": [
    "with open(budget_data_csv, newline=\"\") as csvfile:\n",
    "    csvreader = csv.reader(csvfile, delimiter=\",\")\n",
    "    csv_header = next(csvreader)\n",
    "    first_row=next(csvreader)\n",
    "    total_amt = int(first_row[1])\n",
    "    total_months = 1\n",
    "    prev_amt =int(first_row[1])\n",
    "\n",
    "    for row in csvreader:\n",
    "        total_months+= 1\n",
    "        total_amt += int(row[1])\n",
    "        averg_change = int(row[1]) - prev_amt\n",
    "        net_change_list.append(averg_change)\n",
    "        \n",
    "        month_change_list.append(row[0])\n",
    "        prev_amt = int(row[1])\n",
    "        \n",
    "        increase.append(float(averg_change))\n",
    "        decrease.append(float(averg_change))\n",
    "\n",
    "    net_monthly_avg= sum(net_change_list)/len(net_change_list)"
   ]
  },
  {
   "cell_type": "code",
   "execution_count": 8,
   "metadata": {},
   "outputs": [
    {
     "name": "stdout",
     "output_type": "stream",
     "text": [
      "Financial Analysis\n",
      "---------------\n",
      "Total Months: 86\n",
      "Average  Change: -2315.1176470588234\n",
      "Total: $38382578\n",
      "Greatest Increase in Profits: Feb-2012 1926159.0\n",
      "Greatest Decrease in Profits: Sep-2013 -2196167.0\n"
     ]
    }
   ],
   "source": [
    "def my_max(lst):\n",
    "    max_val = 0\n",
    "    for x in lst:\n",
    "        if x > max_val:\n",
    "            max_val = x\n",
    "    return max_val\n",
    "\n",
    "my_max(increase)\n",
    "\n",
    "def my_min(lst):\n",
    "    min_val = float(sum(lst))\n",
    "    for x in lst:\n",
    "        if x < min_val:\n",
    "            min_val = x\n",
    "    return min_val\n",
    "\n",
    "my_min(decrease)\n",
    "\n",
    "print(\"Financial Analysis\")\n",
    "print(\"---------------\")\n",
    "print(\"Total Months: \" + str(total_months))\n",
    "print(\"Average  Change: \"+ str(net_monthly_avg))\n",
    "print(\"Total: $\" + str(total_amt))\n",
    "print(\"Greatest Increase in Profits: Feb-2012 \" + str(my_max(increase)))\n",
    "print(\"Greatest Decrease in Profits: Sep-2013 \" + str(my_min(decrease)))\n"
   ]
  },
  {
   "cell_type": "code",
   "execution_count": 9,
   "metadata": {},
   "outputs": [
    {
     "name": "stdout",
     "output_type": "stream",
     "text": [
      "Financial Analysis\n",
      "--------------\n",
      "Total Months: 86\n",
      "Average  Change: -2315.1176470588234\n",
      "Total: $38382578\n",
      "Greatest Increase in Profits: Feb-2012 1926159.0\n",
      "Greatest Decrease in Profits: Sep-2013 -2196167.0\n",
      "\n"
     ]
    }
   ],
   "source": [
    "file_txt = \"Financial Analysis\\n\"\n",
    "file_txt += \"--------------\\n\"\n",
    "file_txt+=\"Total Months: \" + str(total_months)+ \"\\n\"\n",
    "file_txt+=\"Average  Change: \"+ str(net_monthly_avg)+\"\\n\"\n",
    "file_txt+=\"Total: $\" + str(total_amt) +\"\\n\"\n",
    "file_txt+=\"Greatest Increase in Profits: Feb-2012 \" + str(my_max(increase))+\"\\n\"\n",
    "file_txt+=\"Greatest Decrease in Profits: Sep-2013 \" + str(my_min(decrease))+\"\\n\"\n",
    "print(file_txt)                                                \n",
    "\n",
    "with open(\"Py_Bank.txt\", \"w\") as txt_file:\n",
    "    txt_file.write(file_txt)"
   ]
  },
  {
   "cell_type": "code",
   "execution_count": null,
   "metadata": {},
   "outputs": [],
   "source": []
  },
  {
   "cell_type": "code",
   "execution_count": null,
   "metadata": {},
   "outputs": [],
   "source": []
  }
 ],
 "metadata": {
  "kernelspec": {
   "display_name": "Python 3",
   "language": "python",
   "name": "python3"
  },
  "language_info": {
   "codemirror_mode": {
    "name": "ipython",
    "version": 3
   },
   "file_extension": ".py",
   "mimetype": "text/x-python",
   "name": "python",
   "nbconvert_exporter": "python",
   "pygments_lexer": "ipython3",
   "version": "3.7.1"
  }
 },
 "nbformat": 4,
 "nbformat_minor": 2
}
