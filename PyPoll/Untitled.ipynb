{
 "cells": [
  {
   "cell_type": "code",
   "execution_count": 1,
   "metadata": {},
   "outputs": [],
   "source": [
    "import os\n",
    "import csv\n",
    "election_data_path = os.path.join(\"Resources\", \"election_data.csv\")"
   ]
  },
  {
   "cell_type": "code",
   "execution_count": 2,
   "metadata": {},
   "outputs": [],
   "source": [
    "total_votes = 0\n",
    "unique_candidate_names = []\n",
    "candidate_election_counts = []"
   ]
  },
  {
   "cell_type": "code",
   "execution_count": 3,
   "metadata": {},
   "outputs": [
    {
     "name": "stdout",
     "output_type": "stream",
     "text": [
      "3521001\n",
      "['Khan', 'Correy', 'Li', \"O'Tooley\"]\n",
      "[2218231, 704200, 492940, 105630]\n"
     ]
    }
   ],
   "source": [
    "with open(election_data_path, 'r') as csvfile:\n",
    "    reader = csv.reader(csvfile, delimiter=',')\n",
    "    next(reader)\n",
    "    for row in reader:\n",
    "        total_votes = total_votes + 1\n",
    "        if row[2] not in unique_candidate_names:\n",
    "            unique_candidate_names.append(row[2])\n",
    "    \n",
    "    for name in unique_candidate_names:\n",
    "        with open(election_data_path, 'r') as csvfile:\n",
    "            reader = csv.reader(csvfile, delimiter=',')\n",
    "            count = 0\n",
    "            for row in reader:\n",
    "                if row[2] == name:\n",
    "                    count = count + 1\n",
    "            candidate_election_counts.append(count)\n",
    "        \n",
    "        \n",
    "print(total_votes)\n",
    "print(unique_candidate_names)\n",
    "print(candidate_election_counts)"
   ]
  },
  {
   "cell_type": "code",
   "execution_count": 4,
   "metadata": {},
   "outputs": [
    {
     "data": {
      "text/plain": [
       "{'Khan': 2218231, 'Correy': 704200, 'Li': 492940, \"O'Tooley\": 105630}"
      ]
     },
     "execution_count": 4,
     "metadata": {},
     "output_type": "execute_result"
    }
   ],
   "source": [
    "my_poll_dictionary = dict(zip(unique_candidate_names, candidate_election_counts))\n",
    "my_poll_dictionary"
   ]
  },
  {
   "cell_type": "code",
   "execution_count": 6,
   "metadata": {},
   "outputs": [
    {
     "name": "stdout",
     "output_type": "stream",
     "text": [
      "Winner: Khan\n",
      "Election Results\n",
      "-------------\n",
      "Total Votes: 3521001\n",
      "--------------\n",
      "Khan:63.0% (2218231)\n",
      "Correy:20.0% (704200)\n",
      "Li:14.0% (492940)\n",
      "O'Tooley:3.0% (105630)\n",
      "-------------\n",
      "Winner: Khan\n",
      "-----------\n"
     ]
    }
   ],
   "source": [
    "grand_winner_key = \"\"\n",
    "grand_winner_value = 0\n",
    "for the_key, the_value in my_poll_dictionary.items():\n",
    "    if the_value > grand_winner_value:\n",
    "        grand_winner_key = the_key\n",
    "        grand_winner_value = the_value\n",
    "print (f\"Winner: {grand_winner_key}\")\n",
    "print(\"Election Results\")\n",
    "print(\"-------------\")\n",
    "print(f\"Total Votes: {total_votes}\")\n",
    "print(\"--------------\")\n",
    "for the_key, the_value in my_poll_dictionary.items():\n",
    "    print(f\"{the_key}:{ round((the_value / total_votes) * 100, 2)}% ({the_value})\")\n",
    "print(\"-------------\")\n",
    "print (f\"Winner: {grand_winner_key}\")\n",
    "print(\"-----------\")"
   ]
  },
  {
   "cell_type": "code",
   "execution_count": null,
   "metadata": {},
   "outputs": [],
   "source": []
  }
 ],
 "metadata": {
  "kernelspec": {
   "display_name": "Python 3",
   "language": "python",
   "name": "python3"
  },
  "language_info": {
   "codemirror_mode": {
    "name": "ipython",
    "version": 3
   },
   "file_extension": ".py",
   "mimetype": "text/x-python",
   "name": "python",
   "nbconvert_exporter": "python",
   "pygments_lexer": "ipython3",
   "version": "3.7.1"
  }
 },
 "nbformat": 4,
 "nbformat_minor": 2
}
